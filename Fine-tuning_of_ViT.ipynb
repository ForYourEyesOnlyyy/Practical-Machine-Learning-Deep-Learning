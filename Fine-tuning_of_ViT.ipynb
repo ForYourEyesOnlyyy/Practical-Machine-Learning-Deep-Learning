{
 "cells": [
  {
   "cell_type": "markdown",
   "id": "92fdc6de",
   "metadata": {
    "id": "7wRntkaJoPdY",
    "papermill": {
     "duration": 0.00827,
     "end_time": "2024-10-22T10:19:35.550379",
     "exception": false,
     "start_time": "2024-10-22T10:19:35.542109",
     "status": "completed"
    },
    "tags": []
   },
   "source": [
    "# PMLDL. Lab 8. Visual Transformets & Low-rank Adapters\n",
    "\n",
    "\n",
    "\n",
    "[Competition link](https://www.kaggle.com/t/4ec3db5c020740f7962d5e023a54db2d)"
   ]
  },
  {
   "cell_type": "markdown",
   "id": "beebc217",
   "metadata": {
    "id": "JwhYBu5TobO5",
    "papermill": {
     "duration": 0.007354,
     "end_time": "2024-10-22T10:19:35.567768",
     "exception": false,
     "start_time": "2024-10-22T10:19:35.560414",
     "status": "completed"
    },
    "tags": []
   },
   "source": [
    "In this lab you're asking to fine tune a Visual Transformer classifier on target dataset\n",
    "\n",
    "\n",
    "\n",
    "Objectives:\n",
    "\n",
    "\n",
    "\n",
    "1) Get familiar with **Huggingface** - the main library for working with transformers;\n",
    "\n",
    "\n",
    "\n",
    "2) Use **low-rank adapters** for cheap training of a transformer."
   ]
  },
  {
   "cell_type": "markdown",
   "id": "e40bd375",
   "metadata": {
    "id": "yOptj0ZbwnwE",
    "papermill": {
     "duration": 0.007095,
     "end_time": "2024-10-22T10:19:35.582327",
     "exception": false,
     "start_time": "2024-10-22T10:19:35.575232",
     "status": "completed"
    },
    "tags": []
   },
   "source": [
    "### 1) Load transformers packages & dataset\n",
    "\n",
    "\n",
    "\n",
    "***Transformers*** - is a package which is assosiated with HuggingFace community. It allows to load (and push) trained transformers and datasets. *transformers* package also connects with pytorch which allows to train a model by your own.\n",
    "\n",
    "\n",
    "\n",
    "We will load an Visual Transformer (ViT) that was trained on ImageNet and fine tune it on images with different foods."
   ]
  },
  {
   "cell_type": "code",
   "execution_count": 1,
   "id": "de648608",
   "metadata": {
    "execution": {
     "iopub.execute_input": "2024-10-22T10:19:35.599700Z",
     "iopub.status.busy": "2024-10-22T10:19:35.599085Z",
     "iopub.status.idle": "2024-10-22T10:19:39.927085Z",
     "shell.execute_reply": "2024-10-22T10:19:39.926197Z"
    },
    "papermill": {
     "duration": 4.338427,
     "end_time": "2024-10-22T10:19:39.929084",
     "exception": false,
     "start_time": "2024-10-22T10:19:35.590657",
     "status": "completed"
    },
    "tags": []
   },
   "outputs": [
    {
     "data": {
      "text/plain": [
       "'/kaggle/working/pmldl-week-8-fine-tuning-of-vi-t/food-101_train/food-101_train'"
      ]
     },
     "execution_count": 1,
     "metadata": {},
     "output_type": "execute_result"
    }
   ],
   "source": [
    "import shutil\n",
    "\n",
    "source_dir = \"/kaggle/input/pmldl-week-8-fine-tuning-of-vi-t/food-101_train/food-101_train\"\n",
    "\n",
    "destination_dir = \"/kaggle/working/pmldl-week-8-fine-tuning-of-vi-t/food-101_train/food-101_train\"\n",
    "\n",
    "shutil.copytree(source_dir, destination_dir, dirs_exist_ok=True)"
   ]
  },
  {
   "cell_type": "code",
   "execution_count": 2,
   "id": "35be11dc",
   "metadata": {
    "execution": {
     "iopub.execute_input": "2024-10-22T10:19:39.945797Z",
     "iopub.status.busy": "2024-10-22T10:19:39.945477Z",
     "iopub.status.idle": "2024-10-22T10:19:41.146850Z",
     "shell.execute_reply": "2024-10-22T10:19:41.145972Z"
    },
    "papermill": {
     "duration": 1.211885,
     "end_time": "2024-10-22T10:19:41.148955",
     "exception": false,
     "start_time": "2024-10-22T10:19:39.937070",
     "status": "completed"
    },
    "tags": []
   },
   "outputs": [
    {
     "data": {
      "text/html": [
       "<button onClick=\"this.nextSibling.style.display='block';this.style.display='none';\">Display W&B run</button><iframe src='?jupyter=true' style='border:none;width:100%;height:420px;display:none;'></iframe>"
      ],
      "text/plain": [
       "<wandb.sdk.wandb_run.Run at 0x7ca4fb5cf070>"
      ]
     },
     "execution_count": 2,
     "metadata": {},
     "output_type": "execute_result"
    }
   ],
   "source": [
    "import wandb\n",
    "wandb.init(mode='disabled')"
   ]
  },
  {
   "cell_type": "code",
   "execution_count": 3,
   "id": "c2faebb6",
   "metadata": {
    "execution": {
     "iopub.execute_input": "2024-10-22T10:19:41.167101Z",
     "iopub.status.busy": "2024-10-22T10:19:41.166802Z",
     "iopub.status.idle": "2024-10-22T10:20:10.227945Z",
     "shell.execute_reply": "2024-10-22T10:20:10.226784Z"
    },
    "id": "0Q69QetVg_-W",
    "outputId": "d095cac8-0374-419a-aa93-d768986caf99",
    "papermill": {
     "duration": 29.073425,
     "end_time": "2024-10-22T10:20:10.230382",
     "exception": false,
     "start_time": "2024-10-22T10:19:41.156957",
     "status": "completed"
    },
    "tags": []
   },
   "outputs": [],
   "source": [
    "!pip install transformers accelerate evaluate datasets git+https://github.com/huggingface/peft -q"
   ]
  },
  {
   "cell_type": "code",
   "execution_count": 4,
   "id": "be630db7",
   "metadata": {
    "execution": {
     "iopub.execute_input": "2024-10-22T10:20:10.247494Z",
     "iopub.status.busy": "2024-10-22T10:20:10.247149Z",
     "iopub.status.idle": "2024-10-22T10:20:31.744481Z",
     "shell.execute_reply": "2024-10-22T10:20:31.743402Z"
    },
    "id": "vTdGbbCLjqNG",
    "papermill": {
     "duration": 21.50918,
     "end_time": "2024-10-22T10:20:31.747552",
     "exception": false,
     "start_time": "2024-10-22T10:20:10.238372",
     "status": "completed"
    },
    "tags": []
   },
   "outputs": [],
   "source": [
    "from transformers import AutoImageProcessor, ViTForImageClassification\n",
    "\n",
    "import torch\n",
    "\n",
    "from datasets import load_from_disk, load_dataset"
   ]
  },
  {
   "cell_type": "markdown",
   "id": "3941fb41",
   "metadata": {
    "id": "LbfsLlF8xHbK",
    "papermill": {
     "duration": 0.00768,
     "end_time": "2024-10-22T10:20:31.763529",
     "exception": false,
     "start_time": "2024-10-22T10:20:31.755849",
     "status": "completed"
    },
    "tags": []
   },
   "source": [
    "Let's implement some preprocessing functions to fit images to ViT shape and distribution and add some augmentation"
   ]
  },
  {
   "cell_type": "code",
   "execution_count": 5,
   "id": "8bf9b37c",
   "metadata": {
    "execution": {
     "iopub.execute_input": "2024-10-22T10:20:31.781334Z",
     "iopub.status.busy": "2024-10-22T10:20:31.780771Z",
     "iopub.status.idle": "2024-10-22T10:20:32.217659Z",
     "shell.execute_reply": "2024-10-22T10:20:32.216813Z"
    },
    "id": "vY4xb2jijvV6",
    "outputId": "3538df03-bfb4-4d97-edea-97145abcddf2",
    "papermill": {
     "duration": 0.448577,
     "end_time": "2024-10-22T10:20:32.220301",
     "exception": false,
     "start_time": "2024-10-22T10:20:31.771724",
     "status": "completed"
    },
    "tags": []
   },
   "outputs": [
    {
     "data": {
      "application/vnd.jupyter.widget-view+json": {
       "model_id": "6c7942d3f96d46e9aa495ed92f43c640",
       "version_major": 2,
       "version_minor": 0
      },
      "text/plain": [
       "preprocessor_config.json:   0%|          | 0.00/160 [00:00<?, ?B/s]"
      ]
     },
     "metadata": {},
     "output_type": "display_data"
    },
    {
     "data": {
      "application/vnd.jupyter.widget-view+json": {
       "model_id": "32fab6a2cf534b20a895c038404cf58c",
       "version_major": 2,
       "version_minor": 0
      },
      "text/plain": [
       "config.json:   0%|          | 0.00/69.7k [00:00<?, ?B/s]"
      ]
     },
     "metadata": {},
     "output_type": "display_data"
    },
    {
     "name": "stderr",
     "output_type": "stream",
     "text": [
      "Fast image processor class <class 'transformers.models.vit.image_processing_vit_fast.ViTImageProcessorFast'> is available for this model. Using slow image processor class. To use the fast image processor class set `use_fast=True`.\n"
     ]
    }
   ],
   "source": [
    "# Add augmentation procedures if you like\n",
    "\n",
    "from torchvision.transforms import Compose, Resize, ToTensor, Normalize\n",
    "\n",
    "\n",
    "\n",
    "\n",
    "\n",
    "# Target dataset\n",
    "\n",
    "dataset = load_from_disk(\"/kaggle/working/pmldl-week-8-fine-tuning-of-vi-t/food-101_train/food-101_train\")\n",
    "\n",
    "\n",
    "\n",
    "# Data prepapator for a model\n",
    "\n",
    "image_processor = AutoImageProcessor.from_pretrained(\"google/vit-base-patch16-224\")\n",
    "\n",
    "\n",
    "\n",
    "# Extract parameters from image_processor\n",
    "\n",
    "# Write your code here\n",
    "\n",
    "normalize = Normalize(mean=image_processor.image_mean, std=image_processor.image_std)\n",
    "\n",
    "\n",
    "\n",
    "# Write your code here\n",
    "\n",
    "# Note that the size of images should fit size of image_processor\n",
    "\n",
    "image_h = image_processor.size['height']\n",
    "\n",
    "image_w = image_processor.size['width']\n",
    "\n",
    "train_transforms = Compose(\n",
    "\n",
    "    [\n",
    "\n",
    "        Resize((image_h, image_w)),\n",
    "\n",
    "        ToTensor(),\n",
    "\n",
    "        normalize,\n",
    "\n",
    "    ]\n",
    "\n",
    ")\n",
    "\n",
    "\n",
    "\n",
    "# Write your code here\n",
    "\n",
    "# Note that the size of images should fit size of image_processor\n",
    "\n",
    "val_transforms = Compose(\n",
    "\n",
    "    [\n",
    "\n",
    "        Resize((image_h, image_w)),\n",
    "\n",
    "        ToTensor(),\n",
    "\n",
    "        normalize,\n",
    "\n",
    "    ]\n",
    "\n",
    ")\n",
    "\n",
    "\n",
    "\n",
    "def preprocess_train(example_batch):\n",
    "\n",
    "    \"\"\"Apply train_transforms across a batch.\"\"\"\n",
    "\n",
    "    example_batch[\"pixel_values\"] = [train_transforms(image.convert(\"RGB\")) for image in example_batch[\"image\"]]\n",
    "\n",
    "    return example_batch\n",
    "\n",
    "\n",
    "\n",
    "\n",
    "\n",
    "def preprocess_val(example_batch):\n",
    "\n",
    "    \"\"\"Apply val_transforms across a batch.\"\"\"\n",
    "\n",
    "    example_batch[\"pixel_values\"] = [val_transforms(image.convert(\"RGB\")) for image in example_batch[\"image\"]]\n",
    "\n",
    "    return example_batch"
   ]
  },
  {
   "cell_type": "markdown",
   "id": "f51f6201",
   "metadata": {
    "id": "iX4u51BCyRTX",
    "papermill": {
     "duration": 0.007839,
     "end_time": "2024-10-22T10:20:32.237375",
     "exception": false,
     "start_time": "2024-10-22T10:20:32.229536",
     "status": "completed"
    },
    "tags": []
   },
   "source": [
    "Next, we need to map labels from string to int and vise versa"
   ]
  },
  {
   "cell_type": "code",
   "execution_count": 6,
   "id": "e15bbf13",
   "metadata": {
    "execution": {
     "iopub.execute_input": "2024-10-22T10:20:32.254925Z",
     "iopub.status.busy": "2024-10-22T10:20:32.254121Z",
     "iopub.status.idle": "2024-10-22T10:20:32.260093Z",
     "shell.execute_reply": "2024-10-22T10:20:32.259277Z"
    },
    "papermill": {
     "duration": 0.016756,
     "end_time": "2024-10-22T10:20:32.262047",
     "exception": false,
     "start_time": "2024-10-22T10:20:32.245291",
     "status": "completed"
    },
    "tags": []
   },
   "outputs": [
    {
     "data": {
      "text/plain": [
       "Dataset({\n",
       "    features: ['image', 'label'],\n",
       "    num_rows: 7575\n",
       "})"
      ]
     },
     "execution_count": 6,
     "metadata": {},
     "output_type": "execute_result"
    }
   ],
   "source": [
    "dataset"
   ]
  },
  {
   "cell_type": "code",
   "execution_count": 7,
   "id": "0c6cf9d5",
   "metadata": {
    "execution": {
     "iopub.execute_input": "2024-10-22T10:20:32.279541Z",
     "iopub.status.busy": "2024-10-22T10:20:32.279255Z",
     "iopub.status.idle": "2024-10-22T10:20:32.284500Z",
     "shell.execute_reply": "2024-10-22T10:20:32.283745Z"
    },
    "id": "nhgnzsBdjxjp",
    "papermill": {
     "duration": 0.015999,
     "end_time": "2024-10-22T10:20:32.286343",
     "exception": false,
     "start_time": "2024-10-22T10:20:32.270344",
     "status": "completed"
    },
    "tags": []
   },
   "outputs": [],
   "source": [
    "label2id, id2label = dict(), dict()\n",
    "\n",
    "labels = dataset.features[\"label\"].names\n",
    "\n",
    "# Go through the labels and save corresponding indexes\n",
    "\n",
    "# Write your code here\n",
    "\n",
    "for i, label in enumerate(labels):\n",
    "\n",
    "    label2id[label] = i\n",
    "\n",
    "    id2label[i] = label"
   ]
  },
  {
   "cell_type": "markdown",
   "id": "aadfe426",
   "metadata": {
    "id": "W19i7xMV0sOK",
    "papermill": {
     "duration": 0.008318,
     "end_time": "2024-10-22T10:20:32.302817",
     "exception": false,
     "start_time": "2024-10-22T10:20:32.294499",
     "status": "completed"
    },
    "tags": []
   },
   "source": [
    "Do train-test split"
   ]
  },
  {
   "cell_type": "code",
   "execution_count": 8,
   "id": "fb15a7e7",
   "metadata": {
    "execution": {
     "iopub.execute_input": "2024-10-22T10:20:32.320156Z",
     "iopub.status.busy": "2024-10-22T10:20:32.319877Z",
     "iopub.status.idle": "2024-10-22T10:20:32.361352Z",
     "shell.execute_reply": "2024-10-22T10:20:32.360712Z"
    },
    "id": "Dv5W5JnEkMZ4",
    "papermill": {
     "duration": 0.052265,
     "end_time": "2024-10-22T10:20:32.363267",
     "exception": false,
     "start_time": "2024-10-22T10:20:32.311002",
     "status": "completed"
    },
    "tags": []
   },
   "outputs": [],
   "source": [
    "# split up training into training + validation\n",
    "\n",
    "splits = dataset.train_test_split(test_size=0.01)\n",
    "\n",
    "train_ds = splits[\"train\"]\n",
    "\n",
    "val_ds = splits[\"test\"]\n",
    "\n",
    "\n",
    "\n",
    "train_ds.set_transform(preprocess_train)\n",
    "\n",
    "val_ds.set_transform(preprocess_val)"
   ]
  },
  {
   "cell_type": "markdown",
   "id": "c65a1d01",
   "metadata": {
    "id": "brT1U7S1yarn",
    "papermill": {
     "duration": 0.010694,
     "end_time": "2024-10-22T10:20:32.384942",
     "exception": false,
     "start_time": "2024-10-22T10:20:32.374248",
     "status": "completed"
    },
    "tags": []
   },
   "source": [
    "### 2) Model loading\n",
    "\n",
    "\n",
    "\n",
    "First of all, we should load the model itself"
   ]
  },
  {
   "cell_type": "code",
   "execution_count": 9,
   "id": "d8c83e67",
   "metadata": {
    "execution": {
     "iopub.execute_input": "2024-10-22T10:20:32.403094Z",
     "iopub.status.busy": "2024-10-22T10:20:32.402824Z",
     "iopub.status.idle": "2024-10-22T10:20:32.407999Z",
     "shell.execute_reply": "2024-10-22T10:20:32.407185Z"
    },
    "id": "UdeMVYgTaoAU",
    "papermill": {
     "duration": 0.016306,
     "end_time": "2024-10-22T10:20:32.409946",
     "exception": false,
     "start_time": "2024-10-22T10:20:32.393640",
     "status": "completed"
    },
    "tags": []
   },
   "outputs": [],
   "source": [
    "def print_trainable_parameters(model):\n",
    "\n",
    "    \"\"\"\n",
    "\n",
    "    Prints the number of trainable parameters in the model.\n",
    "\n",
    "    \"\"\"\n",
    "\n",
    "    trainable_params = 0\n",
    "\n",
    "    all_param = 0\n",
    "\n",
    "    for _, param in model.named_parameters():\n",
    "\n",
    "        all_param += param.numel()\n",
    "\n",
    "        if param.requires_grad:\n",
    "\n",
    "            trainable_params += param.numel()\n",
    "\n",
    "    print(\n",
    "\n",
    "        f\"trainable params: {trainable_params} || all params: {all_param} || trainable%: {100 * trainable_params / all_param:.2f}\"\n",
    "\n",
    "    )"
   ]
  },
  {
   "cell_type": "code",
   "execution_count": 10,
   "id": "e254f41c",
   "metadata": {
    "execution": {
     "iopub.execute_input": "2024-10-22T10:20:32.427060Z",
     "iopub.status.busy": "2024-10-22T10:20:32.426802Z",
     "iopub.status.idle": "2024-10-22T10:20:38.008172Z",
     "shell.execute_reply": "2024-10-22T10:20:38.007088Z"
    },
    "id": "BUxnNGspaqyX",
    "outputId": "c218d3b6-7605-4d2b-e754-cc57e9306093",
    "papermill": {
     "duration": 5.592562,
     "end_time": "2024-10-22T10:20:38.010583",
     "exception": false,
     "start_time": "2024-10-22T10:20:32.418021",
     "status": "completed"
    },
    "tags": []
   },
   "outputs": [
    {
     "data": {
      "application/vnd.jupyter.widget-view+json": {
       "model_id": "4944ce121cd74624872accbe13f2a13c",
       "version_major": 2,
       "version_minor": 0
      },
      "text/plain": [
       "model.safetensors:   0%|          | 0.00/346M [00:00<?, ?B/s]"
      ]
     },
     "metadata": {},
     "output_type": "display_data"
    },
    {
     "name": "stderr",
     "output_type": "stream",
     "text": [
      "Some weights of ViTForImageClassification were not initialized from the model checkpoint at google/vit-base-patch16-224 and are newly initialized because the shapes did not match:\n",
      "- classifier.bias: found shape torch.Size([1000]) in the checkpoint and torch.Size([101]) in the model instantiated\n",
      "- classifier.weight: found shape torch.Size([1000, 768]) in the checkpoint and torch.Size([101, 768]) in the model instantiated\n",
      "You should probably TRAIN this model on a down-stream task to be able to use it for predictions and inference.\n"
     ]
    },
    {
     "name": "stdout",
     "output_type": "stream",
     "text": [
      "trainable params: 85876325 || all params: 85876325 || trainable%: 100.00\n"
     ]
    }
   ],
   "source": [
    "from transformers import AutoModelForImageClassification, TrainingArguments, Trainer\n",
    "\n",
    "\n",
    "\n",
    "# Write your code here\n",
    "\n",
    "model = AutoModelForImageClassification.from_pretrained(\n",
    "\n",
    "    \"google/vit-base-patch16-224\",\n",
    "\n",
    "    label2id=label2id,\n",
    "\n",
    "    id2label=id2label,\n",
    "\n",
    "    ignore_mismatched_sizes=True\n",
    "\n",
    "\n",
    "\n",
    ")\n",
    "\n",
    "print_trainable_parameters(model)"
   ]
  },
  {
   "cell_type": "markdown",
   "id": "4e0abccb",
   "metadata": {
    "id": "7dJViBmn163V",
    "papermill": {
     "duration": 0.009312,
     "end_time": "2024-10-22T10:20:38.029759",
     "exception": false,
     "start_time": "2024-10-22T10:20:38.020447",
     "status": "completed"
    },
    "tags": []
   },
   "source": [
    "### 3) Low-rank adaptation\n",
    "\n",
    "\n",
    "\n",
    "[LoRA](https://arxiv.org/pdf/2106.09685) - is a well-known method for transformers training. The one can **decompose** weight matrix of a transformer into two smaller matricies.\n",
    "\n",
    "\n",
    "\n",
    "Where are several parameters for LoRA. For now, let's focus on one, **r** - intrictic dimension of the decomposed matricies. **r** usually varies from 4 to 64."
   ]
  },
  {
   "cell_type": "code",
   "execution_count": 11,
   "id": "7d6342bc",
   "metadata": {
    "execution": {
     "iopub.execute_input": "2024-10-22T10:20:38.049844Z",
     "iopub.status.busy": "2024-10-22T10:20:38.049182Z",
     "iopub.status.idle": "2024-10-22T10:20:38.134913Z",
     "shell.execute_reply": "2024-10-22T10:20:38.133715Z"
    },
    "id": "SU7DyaA2ayfe",
    "outputId": "7cd0cf25-d7a8-4ae2-a97d-51b1860a0c6e",
    "papermill": {
     "duration": 0.098323,
     "end_time": "2024-10-22T10:20:38.136855",
     "exception": false,
     "start_time": "2024-10-22T10:20:38.038532",
     "status": "completed"
    },
    "tags": []
   },
   "outputs": [
    {
     "name": "stdout",
     "output_type": "stream",
     "text": [
      "trainable params: 2436965 || all params: 88313290 || trainable%: 2.76\n"
     ]
    }
   ],
   "source": [
    "from peft import LoraConfig, get_peft_model\n",
    "\n",
    "# Load config\n",
    "\n",
    "# Write your code here\n",
    "\n",
    "config = LoraConfig(\n",
    "\n",
    "    r=64,\n",
    "\n",
    "    lora_alpha=16,\n",
    "\n",
    "    target_modules=[\"query\", \"value\"],\n",
    "\n",
    "    lora_dropout=0.1,\n",
    "\n",
    "    bias=\"none\",\n",
    "\n",
    "    modules_to_save=[\"classifier\"],\n",
    "\n",
    ")\n",
    "\n",
    "lora_model = get_peft_model(model, config)\n",
    "\n",
    "print_trainable_parameters(lora_model)\n"
   ]
  },
  {
   "cell_type": "markdown",
   "id": "7dd04901",
   "metadata": {
    "id": "plv6xM_m9mWo",
    "papermill": {
     "duration": 0.00829,
     "end_time": "2024-10-22T10:20:38.153694",
     "exception": false,
     "start_time": "2024-10-22T10:20:38.145404",
     "status": "completed"
    },
    "tags": []
   },
   "source": [
    "That's how you prepared an adapter. Note the trainable percent of parameters"
   ]
  },
  {
   "cell_type": "markdown",
   "id": "1b478115",
   "metadata": {
    "id": "DhgJvAui9oX4",
    "papermill": {
     "duration": 0.008544,
     "end_time": "2024-10-22T10:20:38.171233",
     "exception": false,
     "start_time": "2024-10-22T10:20:38.162689",
     "status": "completed"
    },
    "tags": []
   },
   "source": [
    "### 4) Training of transformer\n",
    "\n",
    "\n",
    "\n",
    "For `transformers` you don't need to write a training function as in pytorch. You need to set all the training config in `TrainingArguments` and run a `Trainer`.\n",
    "\n",
    "\n"
   ]
  },
  {
   "cell_type": "code",
   "execution_count": 12,
   "id": "9f429692",
   "metadata": {
    "execution": {
     "iopub.execute_input": "2024-10-22T10:20:38.189814Z",
     "iopub.status.busy": "2024-10-22T10:20:38.189465Z",
     "iopub.status.idle": "2024-10-22T10:20:38.339647Z",
     "shell.execute_reply": "2024-10-22T10:20:38.338901Z"
    },
    "id": "7S97rMw-a4UY",
    "papermill": {
     "duration": 0.162043,
     "end_time": "2024-10-22T10:20:38.342035",
     "exception": false,
     "start_time": "2024-10-22T10:20:38.179992",
     "status": "completed"
    },
    "tags": []
   },
   "outputs": [],
   "source": [
    "from transformers import TrainingArguments, Trainer\n",
    "\n",
    "\n",
    "\n",
    "# Write your code here\n",
    "\n",
    "batch_size = 64\n",
    "\n",
    "epochs = 5\n",
    "\n",
    "# Train LoRA and save it to \"fine-tunned-model\"\n",
    "\n",
    "args = TrainingArguments(\n",
    "\n",
    "    \"fine-tunned-model\",\n",
    "\n",
    "    remove_unused_columns=False,\n",
    "\n",
    "    eval_strategy=\"epoch\",\n",
    "\n",
    "    save_strategy=\"epoch\",\n",
    "\n",
    "    learning_rate=5e-3,\n",
    "\n",
    "    per_device_train_batch_size=batch_size,\n",
    "\n",
    "    gradient_accumulation_steps=4,\n",
    "\n",
    "    per_device_eval_batch_size=batch_size,\n",
    "\n",
    "    fp16=True,\n",
    "\n",
    "    num_train_epochs=epochs,\n",
    "\n",
    "    logging_steps=10,\n",
    "\n",
    "    load_best_model_at_end=True,\n",
    "\n",
    "    metric_for_best_model=\"accuracy\",\n",
    "\n",
    "    push_to_hub=False,\n",
    "\n",
    "    label_names=[\"labels\"],\n",
    "\n",
    ")"
   ]
  },
  {
   "cell_type": "markdown",
   "id": "df5ff19f",
   "metadata": {
    "papermill": {
     "duration": 0.008315,
     "end_time": "2024-10-22T10:20:38.359235",
     "exception": false,
     "start_time": "2024-10-22T10:20:38.350920",
     "status": "completed"
    },
    "tags": []
   },
   "source": [
    "Let's define a function for performance calculation and collate function that will map a sample from dataset into the image and label"
   ]
  },
  {
   "cell_type": "code",
   "execution_count": 13,
   "id": "b025c32f",
   "metadata": {
    "execution": {
     "iopub.execute_input": "2024-10-22T10:20:38.377568Z",
     "iopub.status.busy": "2024-10-22T10:20:38.377246Z",
     "iopub.status.idle": "2024-10-22T10:20:38.922053Z",
     "shell.execute_reply": "2024-10-22T10:20:38.921033Z"
    },
    "id": "zfdnPXfrbBzM",
    "papermill": {
     "duration": 0.556236,
     "end_time": "2024-10-22T10:20:38.924125",
     "exception": false,
     "start_time": "2024-10-22T10:20:38.367889",
     "status": "completed"
    },
    "tags": []
   },
   "outputs": [
    {
     "data": {
      "application/vnd.jupyter.widget-view+json": {
       "model_id": "eb250badf06d4e66ba9005590f51d01c",
       "version_major": 2,
       "version_minor": 0
      },
      "text/plain": [
       "Downloading builder script:   0%|          | 0.00/4.20k [00:00<?, ?B/s]"
      ]
     },
     "metadata": {},
     "output_type": "display_data"
    }
   ],
   "source": [
    "import numpy as np\n",
    "\n",
    "import evaluate\n",
    "\n",
    "import torch\n",
    "\n",
    "\n",
    "\n",
    "metric = evaluate.load(\"accuracy\")\n",
    "\n",
    "\n",
    "\n",
    "# the compute_metrics function takes a Named Tuple as input:\n",
    "\n",
    "# predictions, which are the logits of the model as Numpy arrays,\n",
    "\n",
    "# and label_ids, which are the ground-truth labels as Numpy arrays.\n",
    "\n",
    "# Use metric.compute(...) to calculate an accuracy between arrays\n",
    "\n",
    "def compute_metrics(eval_pred):\n",
    "\n",
    "    # Write your code here\n",
    "\n",
    "    logits, labels = eval_pred\n",
    "\n",
    "    predictions = np.argmax(logits, axis=-1)\n",
    "\n",
    "    return metric.compute(predictions=predictions, references=labels)\n",
    "\n",
    "\n",
    "\n",
    "def collate_fn(examples):\n",
    "\n",
    "    pixel_values = torch.stack([example[\"pixel_values\"] for example in examples])\n",
    "\n",
    "    labels = torch.tensor([example[\"label\"] for example in examples])\n",
    "\n",
    "    return {\"pixel_values\": pixel_values, \"labels\": labels}"
   ]
  },
  {
   "cell_type": "markdown",
   "id": "595fb480",
   "metadata": {
    "papermill": {
     "duration": 0.008798,
     "end_time": "2024-10-22T10:20:38.942118",
     "exception": false,
     "start_time": "2024-10-22T10:20:38.933320",
     "status": "completed"
    },
    "tags": []
   },
   "source": [
    "Define the main training function:"
   ]
  },
  {
   "cell_type": "code",
   "execution_count": 14,
   "id": "a35c973b",
   "metadata": {
    "execution": {
     "iopub.execute_input": "2024-10-22T10:20:38.960594Z",
     "iopub.status.busy": "2024-10-22T10:20:38.960283Z",
     "iopub.status.idle": "2024-10-22T10:31:48.338839Z",
     "shell.execute_reply": "2024-10-22T10:31:48.337906Z"
    },
    "id": "oNDCt6frg9MJ",
    "outputId": "d246eba6-72c5-4ee2-9f8c-2cfaba9495d7",
    "papermill": {
     "duration": 669.399241,
     "end_time": "2024-10-22T10:31:48.350066",
     "exception": false,
     "start_time": "2024-10-22T10:20:38.950825",
     "status": "completed"
    },
    "tags": []
   },
   "outputs": [
    {
     "name": "stderr",
     "output_type": "stream",
     "text": [
      "/opt/conda/lib/python3.10/site-packages/accelerate/accelerator.py:494: FutureWarning: `torch.cuda.amp.GradScaler(args...)` is deprecated. Please use `torch.amp.GradScaler('cuda', args...)` instead.\n",
      "  self.scaler = torch.cuda.amp.GradScaler(**kwargs)\n",
      "\u001b[34m\u001b[1mwandb\u001b[0m: \u001b[33mWARNING\u001b[0m The `run_name` is currently set to the same value as `TrainingArguments.output_dir`. If this was not intended, please specify a different run name by setting the `TrainingArguments.run_name` parameter.\n",
      "/opt/conda/lib/python3.10/site-packages/torch/nn/parallel/parallel_apply.py:79: FutureWarning: `torch.cuda.amp.autocast(args...)` is deprecated. Please use `torch.amp.autocast('cuda', args...)` instead.\n",
      "  with torch.cuda.device(device), torch.cuda.stream(stream), autocast(enabled=autocast_enabled):\n",
      "/opt/conda/lib/python3.10/site-packages/torch/nn/parallel/_functions.py:68: UserWarning: Was asked to gather along dimension 0, but all input tensors were scalars; will instead unsqueeze and return a vector.\n",
      "  warnings.warn('Was asked to gather along dimension 0, but all '\n"
     ]
    },
    {
     "data": {
      "text/html": [
       "\n",
       "    <div>\n",
       "      \n",
       "      <progress value='70' max='70' style='width:300px; height:20px; vertical-align: middle;'></progress>\n",
       "      [70/70 10:56, Epoch 4/5]\n",
       "    </div>\n",
       "    <table border=\"1\" class=\"dataframe\">\n",
       "  <thead>\n",
       " <tr style=\"text-align: left;\">\n",
       "      <th>Epoch</th>\n",
       "      <th>Training Loss</th>\n",
       "      <th>Validation Loss</th>\n",
       "      <th>Accuracy</th>\n",
       "    </tr>\n",
       "  </thead>\n",
       "  <tbody>\n",
       "    <tr>\n",
       "      <td>0</td>\n",
       "      <td>2.137400</td>\n",
       "      <td>0.866769</td>\n",
       "      <td>0.736842</td>\n",
       "    </tr>\n",
       "    <tr>\n",
       "      <td>1</td>\n",
       "      <td>0.741000</td>\n",
       "      <td>0.726846</td>\n",
       "      <td>0.802632</td>\n",
       "    </tr>\n",
       "    <tr>\n",
       "      <td>2</td>\n",
       "      <td>0.201100</td>\n",
       "      <td>0.750048</td>\n",
       "      <td>0.776316</td>\n",
       "    </tr>\n",
       "    <tr>\n",
       "      <td>4</td>\n",
       "      <td>0.041200</td>\n",
       "      <td>0.785962</td>\n",
       "      <td>0.815789</td>\n",
       "    </tr>\n",
       "  </tbody>\n",
       "</table><p>"
      ],
      "text/plain": [
       "<IPython.core.display.HTML object>"
      ]
     },
     "metadata": {},
     "output_type": "display_data"
    },
    {
     "name": "stderr",
     "output_type": "stream",
     "text": [
      "/opt/conda/lib/python3.10/site-packages/torch/nn/parallel/parallel_apply.py:79: FutureWarning: `torch.cuda.amp.autocast(args...)` is deprecated. Please use `torch.amp.autocast('cuda', args...)` instead.\n",
      "  with torch.cuda.device(device), torch.cuda.stream(stream), autocast(enabled=autocast_enabled):\n",
      "/opt/conda/lib/python3.10/site-packages/torch/nn/parallel/_functions.py:68: UserWarning: Was asked to gather along dimension 0, but all input tensors were scalars; will instead unsqueeze and return a vector.\n",
      "  warnings.warn('Was asked to gather along dimension 0, but all '\n",
      "/opt/conda/lib/python3.10/site-packages/torch/nn/parallel/parallel_apply.py:79: FutureWarning: `torch.cuda.amp.autocast(args...)` is deprecated. Please use `torch.amp.autocast('cuda', args...)` instead.\n",
      "  with torch.cuda.device(device), torch.cuda.stream(stream), autocast(enabled=autocast_enabled):\n",
      "/opt/conda/lib/python3.10/site-packages/torch/nn/parallel/_functions.py:68: UserWarning: Was asked to gather along dimension 0, but all input tensors were scalars; will instead unsqueeze and return a vector.\n",
      "  warnings.warn('Was asked to gather along dimension 0, but all '\n",
      "/opt/conda/lib/python3.10/site-packages/torch/nn/parallel/parallel_apply.py:79: FutureWarning: `torch.cuda.amp.autocast(args...)` is deprecated. Please use `torch.amp.autocast('cuda', args...)` instead.\n",
      "  with torch.cuda.device(device), torch.cuda.stream(stream), autocast(enabled=autocast_enabled):\n",
      "/opt/conda/lib/python3.10/site-packages/torch/nn/parallel/_functions.py:68: UserWarning: Was asked to gather along dimension 0, but all input tensors were scalars; will instead unsqueeze and return a vector.\n",
      "  warnings.warn('Was asked to gather along dimension 0, but all '\n",
      "/opt/conda/lib/python3.10/site-packages/torch/nn/parallel/parallel_apply.py:79: FutureWarning: `torch.cuda.amp.autocast(args...)` is deprecated. Please use `torch.amp.autocast('cuda', args...)` instead.\n",
      "  with torch.cuda.device(device), torch.cuda.stream(stream), autocast(enabled=autocast_enabled):\n",
      "/opt/conda/lib/python3.10/site-packages/torch/nn/parallel/_functions.py:68: UserWarning: Was asked to gather along dimension 0, but all input tensors were scalars; will instead unsqueeze and return a vector.\n",
      "  warnings.warn('Was asked to gather along dimension 0, but all '\n",
      "/opt/conda/lib/python3.10/site-packages/torch/nn/parallel/parallel_apply.py:79: FutureWarning: `torch.cuda.amp.autocast(args...)` is deprecated. Please use `torch.amp.autocast('cuda', args...)` instead.\n",
      "  with torch.cuda.device(device), torch.cuda.stream(stream), autocast(enabled=autocast_enabled):\n",
      "/opt/conda/lib/python3.10/site-packages/torch/nn/parallel/_functions.py:68: UserWarning: Was asked to gather along dimension 0, but all input tensors were scalars; will instead unsqueeze and return a vector.\n",
      "  warnings.warn('Was asked to gather along dimension 0, but all '\n"
     ]
    }
   ],
   "source": [
    "trainer = Trainer(\n",
    "\n",
    "    lora_model,\n",
    "\n",
    "    args,\n",
    "\n",
    "    train_dataset=train_ds,\n",
    "\n",
    "    eval_dataset=val_ds,\n",
    "\n",
    "    tokenizer=image_processor,\n",
    "\n",
    "    compute_metrics=compute_metrics,\n",
    "\n",
    "    data_collator=collate_fn,\n",
    "\n",
    ")\n",
    "\n",
    "train_results = trainer.train()"
   ]
  },
  {
   "cell_type": "markdown",
   "id": "ca89c981",
   "metadata": {
    "id": "5MlxkBve-lxr",
    "papermill": {
     "duration": 0.009389,
     "end_time": "2024-10-22T10:31:48.369510",
     "exception": false,
     "start_time": "2024-10-22T10:31:48.360121",
     "status": "completed"
    },
    "tags": []
   },
   "source": [
    "### 5) Save the model and do prediction"
   ]
  },
  {
   "cell_type": "code",
   "execution_count": 15,
   "id": "f139e852",
   "metadata": {
    "execution": {
     "iopub.execute_input": "2024-10-22T10:31:48.390061Z",
     "iopub.status.busy": "2024-10-22T10:31:48.389745Z",
     "iopub.status.idle": "2024-10-22T10:31:48.607929Z",
     "shell.execute_reply": "2024-10-22T10:31:48.607133Z"
    },
    "id": "f4PY3EOWpWGz",
    "papermill": {
     "duration": 0.231252,
     "end_time": "2024-10-22T10:31:48.610358",
     "exception": false,
     "start_time": "2024-10-22T10:31:48.379106",
     "status": "completed"
    },
    "tags": []
   },
   "outputs": [],
   "source": [
    "from peft import PeftModel\n",
    "\n",
    "trainer.model.save_pretrained(\"my_adapter\")\n",
    "\n",
    "\n",
    "\n",
    "finetuned_model = PeftModel.from_pretrained(model,\n",
    "\n",
    "                                  \"my_adapter\",\n",
    "\n",
    "                                  torch_dtype=torch.float16,\n",
    "\n",
    "                                  is_trainable=False,\n",
    "\n",
    "                                  device_map=\"auto\"\n",
    "\n",
    "                                  )\n",
    "\n",
    "finetuned_model = finetuned_model.merge_and_unload()"
   ]
  },
  {
   "cell_type": "code",
   "execution_count": 16,
   "id": "4a62f83e",
   "metadata": {
    "execution": {
     "iopub.execute_input": "2024-10-22T10:31:48.633168Z",
     "iopub.status.busy": "2024-10-22T10:31:48.632836Z",
     "iopub.status.idle": "2024-10-22T10:33:20.370575Z",
     "shell.execute_reply": "2024-10-22T10:33:20.369441Z"
    },
    "id": "MqTv_1yzlRu3",
    "papermill": {
     "duration": 91.751352,
     "end_time": "2024-10-22T10:33:20.373573",
     "exception": false,
     "start_time": "2024-10-22T10:31:48.622221",
     "status": "completed"
    },
    "tags": []
   },
   "outputs": [],
   "source": [
    "# Test dataset\n",
    "\n",
    "import pandas as pd\n",
    "\n",
    "\n",
    "\n",
    "test_dataset = load_from_disk(\"/kaggle/input/pmldl-week-8-fine-tuning-of-vi-t/food-101_test_images/food-101_test_images\")\n",
    "\n",
    "\n",
    "\n",
    "test_dataset.set_transform(preprocess_val)\n",
    "\n",
    "\n",
    "\n",
    "result_df = pd.DataFrame({\"ID\": [], \"Class\": []})\n",
    "\n",
    "\n",
    "\n",
    "for i, data in enumerate(test_dataset):\n",
    "\n",
    "  image = data[\"pixel_values\"].clone().detach().unsqueeze(0).to('cuda')\n",
    "\n",
    "  outputs = finetuned_model(image)\n",
    "\n",
    "  predicted_class_idx = outputs.logits.argmax(-1).item()\n",
    "\n",
    "  result_df.loc[len(result_df.index)] = [i, id2label[predicted_class_idx]]\n",
    "\n",
    "result_df.to_csv(\"submission.csv\", index=False)"
   ]
  },
  {
   "cell_type": "code",
   "execution_count": null,
   "id": "7d7c9cc9",
   "metadata": {
    "papermill": {
     "duration": 0.012829,
     "end_time": "2024-10-22T10:33:20.402016",
     "exception": false,
     "start_time": "2024-10-22T10:33:20.389187",
     "status": "completed"
    },
    "tags": []
   },
   "outputs": [],
   "source": []
  }
 ],
 "metadata": {
  "accelerator": "GPU",
  "colab": {
   "gpuType": "T4",
   "provenance": []
  },
  "kaggle": {
   "accelerator": "nvidiaTeslaT4",
   "dataSources": [
    {
     "databundleVersionId": 9889138,
     "sourceId": 87115,
     "sourceType": "competition"
    }
   ],
   "dockerImageVersionId": 30787,
   "isGpuEnabled": true,
   "isInternetEnabled": true,
   "language": "python",
   "sourceType": "notebook"
  },
  "kernelspec": {
   "display_name": "Python 3",
   "language": "python",
   "name": "python3"
  },
  "language_info": {
   "codemirror_mode": {
    "name": "ipython",
    "version": 3
   },
   "file_extension": ".py",
   "mimetype": "text/x-python",
   "name": "python",
   "nbconvert_exporter": "python",
   "pygments_lexer": "ipython3",
   "version": "3.10.14"
  },
  "papermill": {
   "default_parameters": {},
   "duration": 831.153053,
   "end_time": "2024-10-22T10:33:23.692709",
   "environment_variables": {},
   "exception": null,
   "input_path": "__notebook__.ipynb",
   "output_path": "__notebook__.ipynb",
   "parameters": {},
   "start_time": "2024-10-22T10:19:32.539656",
   "version": "2.6.0"
  },
  "widgets": {
   "application/vnd.jupyter.widget-state+json": {
    "state": {
     "01ee4e15d9784384930a4d543202ee90": {
      "model_module": "@jupyter-widgets/controls",
      "model_module_version": "1.5.0",
      "model_name": "HTMLModel",
      "state": {
       "_dom_classes": [],
       "_model_module": "@jupyter-widgets/controls",
       "_model_module_version": "1.5.0",
       "_model_name": "HTMLModel",
       "_view_count": null,
       "_view_module": "@jupyter-widgets/controls",
       "_view_module_version": "1.5.0",
       "_view_name": "HTMLView",
       "description": "",
       "description_tooltip": null,
       "layout": "IPY_MODEL_572e1473022e4e19b16fb5015093b2cd",
       "placeholder": "​",
       "style": "IPY_MODEL_888fccbcb62f424d8af129bb96ada0b8",
       "value": "preprocessor_config.json: 100%"
      }
     },
     "05fa9989535743ee820582016fc5bf57": {
      "model_module": "@jupyter-widgets/base",
      "model_module_version": "1.2.0",
      "model_name": "LayoutModel",
      "state": {
       "_model_module": "@jupyter-widgets/base",
       "_model_module_version": "1.2.0",
       "_model_name": "LayoutModel",
       "_view_count": null,
       "_view_module": "@jupyter-widgets/base",
       "_view_module_version": "1.2.0",
       "_view_name": "LayoutView",
       "align_content": null,
       "align_items": null,
       "align_self": null,
       "border": null,
       "bottom": null,
       "display": null,
       "flex": null,
       "flex_flow": null,
       "grid_area": null,
       "grid_auto_columns": null,
       "grid_auto_flow": null,
       "grid_auto_rows": null,
       "grid_column": null,
       "grid_gap": null,
       "grid_row": null,
       "grid_template_areas": null,
       "grid_template_columns": null,
       "grid_template_rows": null,
       "height": null,
       "justify_content": null,
       "justify_items": null,
       "left": null,
       "margin": null,
       "max_height": null,
       "max_width": null,
       "min_height": null,
       "min_width": null,
       "object_fit": null,
       "object_position": null,
       "order": null,
       "overflow": null,
       "overflow_x": null,
       "overflow_y": null,
       "padding": null,
       "right": null,
       "top": null,
       "visibility": null,
       "width": null
      }
     },
     "1e3a8150781344c084c00e7d6676771d": {
      "model_module": "@jupyter-widgets/controls",
      "model_module_version": "1.5.0",
      "model_name": "DescriptionStyleModel",
      "state": {
       "_model_module": "@jupyter-widgets/controls",
       "_model_module_version": "1.5.0",
       "_model_name": "DescriptionStyleModel",
       "_view_count": null,
       "_view_module": "@jupyter-widgets/base",
       "_view_module_version": "1.2.0",
       "_view_name": "StyleView",
       "description_width": ""
      }
     },
     "1ef44fe533d74e528059a7e1d3093eb2": {
      "model_module": "@jupyter-widgets/base",
      "model_module_version": "1.2.0",
      "model_name": "LayoutModel",
      "state": {
       "_model_module": "@jupyter-widgets/base",
       "_model_module_version": "1.2.0",
       "_model_name": "LayoutModel",
       "_view_count": null,
       "_view_module": "@jupyter-widgets/base",
       "_view_module_version": "1.2.0",
       "_view_name": "LayoutView",
       "align_content": null,
       "align_items": null,
       "align_self": null,
       "border": null,
       "bottom": null,
       "display": null,
       "flex": null,
       "flex_flow": null,
       "grid_area": null,
       "grid_auto_columns": null,
       "grid_auto_flow": null,
       "grid_auto_rows": null,
       "grid_column": null,
       "grid_gap": null,
       "grid_row": null,
       "grid_template_areas": null,
       "grid_template_columns": null,
       "grid_template_rows": null,
       "height": null,
       "justify_content": null,
       "justify_items": null,
       "left": null,
       "margin": null,
       "max_height": null,
       "max_width": null,
       "min_height": null,
       "min_width": null,
       "object_fit": null,
       "object_position": null,
       "order": null,
       "overflow": null,
       "overflow_x": null,
       "overflow_y": null,
       "padding": null,
       "right": null,
       "top": null,
       "visibility": null,
       "width": null
      }
     },
     "24910c84c46245d7bf4502ca6445592a": {
      "model_module": "@jupyter-widgets/controls",
      "model_module_version": "1.5.0",
      "model_name": "DescriptionStyleModel",
      "state": {
       "_model_module": "@jupyter-widgets/controls",
       "_model_module_version": "1.5.0",
       "_model_name": "DescriptionStyleModel",
       "_view_count": null,
       "_view_module": "@jupyter-widgets/base",
       "_view_module_version": "1.2.0",
       "_view_name": "StyleView",
       "description_width": ""
      }
     },
     "3161eabe174c4f72ac0d55c2e2efc226": {
      "model_module": "@jupyter-widgets/controls",
      "model_module_version": "1.5.0",
      "model_name": "ProgressStyleModel",
      "state": {
       "_model_module": "@jupyter-widgets/controls",
       "_model_module_version": "1.5.0",
       "_model_name": "ProgressStyleModel",
       "_view_count": null,
       "_view_module": "@jupyter-widgets/base",
       "_view_module_version": "1.2.0",
       "_view_name": "StyleView",
       "bar_color": null,
       "description_width": ""
      }
     },
     "32fab6a2cf534b20a895c038404cf58c": {
      "model_module": "@jupyter-widgets/controls",
      "model_module_version": "1.5.0",
      "model_name": "HBoxModel",
      "state": {
       "_dom_classes": [],
       "_model_module": "@jupyter-widgets/controls",
       "_model_module_version": "1.5.0",
       "_model_name": "HBoxModel",
       "_view_count": null,
       "_view_module": "@jupyter-widgets/controls",
       "_view_module_version": "1.5.0",
       "_view_name": "HBoxView",
       "box_style": "",
       "children": [
        "IPY_MODEL_ca94e6692f4a48fd8ee6f26da2920d0f",
        "IPY_MODEL_80dafe1f80cd46e68ac34f03159abf33",
        "IPY_MODEL_e9e3951a4d7a4643915504fb1d8902cb"
       ],
       "layout": "IPY_MODEL_e4cd5f6b6f814cfab13f3f47a53d9f3e"
      }
     },
     "392920daa82a4188a04cb3f1b59c0d7c": {
      "model_module": "@jupyter-widgets/controls",
      "model_module_version": "1.5.0",
      "model_name": "DescriptionStyleModel",
      "state": {
       "_model_module": "@jupyter-widgets/controls",
       "_model_module_version": "1.5.0",
       "_model_name": "DescriptionStyleModel",
       "_view_count": null,
       "_view_module": "@jupyter-widgets/base",
       "_view_module_version": "1.2.0",
       "_view_name": "StyleView",
       "description_width": ""
      }
     },
     "3b5848b1d7334d15b2d45ed1b894c421": {
      "model_module": "@jupyter-widgets/controls",
      "model_module_version": "1.5.0",
      "model_name": "HTMLModel",
      "state": {
       "_dom_classes": [],
       "_model_module": "@jupyter-widgets/controls",
       "_model_module_version": "1.5.0",
       "_model_name": "HTMLModel",
       "_view_count": null,
       "_view_module": "@jupyter-widgets/controls",
       "_view_module_version": "1.5.0",
       "_view_name": "HTMLView",
       "description": "",
       "description_tooltip": null,
       "layout": "IPY_MODEL_778cf67d128e46f695fbb06d3d89df86",
       "placeholder": "​",
       "style": "IPY_MODEL_1e3a8150781344c084c00e7d6676771d",
       "value": " 346M/346M [00:01&lt;00:00, 266MB/s]"
      }
     },
     "3bcec00a1dd64974b344273dcd730a29": {
      "model_module": "@jupyter-widgets/controls",
      "model_module_version": "1.5.0",
      "model_name": "DescriptionStyleModel",
      "state": {
       "_model_module": "@jupyter-widgets/controls",
       "_model_module_version": "1.5.0",
       "_model_name": "DescriptionStyleModel",
       "_view_count": null,
       "_view_module": "@jupyter-widgets/base",
       "_view_module_version": "1.2.0",
       "_view_name": "StyleView",
       "description_width": ""
      }
     },
     "44f996d1ce6d4f879e3e02d8ee1827e5": {
      "model_module": "@jupyter-widgets/base",
      "model_module_version": "1.2.0",
      "model_name": "LayoutModel",
      "state": {
       "_model_module": "@jupyter-widgets/base",
       "_model_module_version": "1.2.0",
       "_model_name": "LayoutModel",
       "_view_count": null,
       "_view_module": "@jupyter-widgets/base",
       "_view_module_version": "1.2.0",
       "_view_name": "LayoutView",
       "align_content": null,
       "align_items": null,
       "align_self": null,
       "border": null,
       "bottom": null,
       "display": null,
       "flex": null,
       "flex_flow": null,
       "grid_area": null,
       "grid_auto_columns": null,
       "grid_auto_flow": null,
       "grid_auto_rows": null,
       "grid_column": null,
       "grid_gap": null,
       "grid_row": null,
       "grid_template_areas": null,
       "grid_template_columns": null,
       "grid_template_rows": null,
       "height": null,
       "justify_content": null,
       "justify_items": null,
       "left": null,
       "margin": null,
       "max_height": null,
       "max_width": null,
       "min_height": null,
       "min_width": null,
       "object_fit": null,
       "object_position": null,
       "order": null,
       "overflow": null,
       "overflow_x": null,
       "overflow_y": null,
       "padding": null,
       "right": null,
       "top": null,
       "visibility": null,
       "width": null
      }
     },
     "4944ce121cd74624872accbe13f2a13c": {
      "model_module": "@jupyter-widgets/controls",
      "model_module_version": "1.5.0",
      "model_name": "HBoxModel",
      "state": {
       "_dom_classes": [],
       "_model_module": "@jupyter-widgets/controls",
       "_model_module_version": "1.5.0",
       "_model_name": "HBoxModel",
       "_view_count": null,
       "_view_module": "@jupyter-widgets/controls",
       "_view_module_version": "1.5.0",
       "_view_name": "HBoxView",
       "box_style": "",
       "children": [
        "IPY_MODEL_e383c36528b346638aff01fec8c328ae",
        "IPY_MODEL_e88a9d6306d444ff9a0da53fb02e8cec",
        "IPY_MODEL_3b5848b1d7334d15b2d45ed1b894c421"
       ],
       "layout": "IPY_MODEL_fcdf8ab7fd7443e5a04500fd9372e7e9"
      }
     },
     "4f9ced40c8024f6b8f48c85b3c20346d": {
      "model_module": "@jupyter-widgets/controls",
      "model_module_version": "1.5.0",
      "model_name": "ProgressStyleModel",
      "state": {
       "_model_module": "@jupyter-widgets/controls",
       "_model_module_version": "1.5.0",
       "_model_name": "ProgressStyleModel",
       "_view_count": null,
       "_view_module": "@jupyter-widgets/base",
       "_view_module_version": "1.2.0",
       "_view_name": "StyleView",
       "bar_color": null,
       "description_width": ""
      }
     },
     "5535a7fd20d34539b81302d3cced06ac": {
      "model_module": "@jupyter-widgets/base",
      "model_module_version": "1.2.0",
      "model_name": "LayoutModel",
      "state": {
       "_model_module": "@jupyter-widgets/base",
       "_model_module_version": "1.2.0",
       "_model_name": "LayoutModel",
       "_view_count": null,
       "_view_module": "@jupyter-widgets/base",
       "_view_module_version": "1.2.0",
       "_view_name": "LayoutView",
       "align_content": null,
       "align_items": null,
       "align_self": null,
       "border": null,
       "bottom": null,
       "display": null,
       "flex": null,
       "flex_flow": null,
       "grid_area": null,
       "grid_auto_columns": null,
       "grid_auto_flow": null,
       "grid_auto_rows": null,
       "grid_column": null,
       "grid_gap": null,
       "grid_row": null,
       "grid_template_areas": null,
       "grid_template_columns": null,
       "grid_template_rows": null,
       "height": null,
       "justify_content": null,
       "justify_items": null,
       "left": null,
       "margin": null,
       "max_height": null,
       "max_width": null,
       "min_height": null,
       "min_width": null,
       "object_fit": null,
       "object_position": null,
       "order": null,
       "overflow": null,
       "overflow_x": null,
       "overflow_y": null,
       "padding": null,
       "right": null,
       "top": null,
       "visibility": null,
       "width": null
      }
     },
     "572e1473022e4e19b16fb5015093b2cd": {
      "model_module": "@jupyter-widgets/base",
      "model_module_version": "1.2.0",
      "model_name": "LayoutModel",
      "state": {
       "_model_module": "@jupyter-widgets/base",
       "_model_module_version": "1.2.0",
       "_model_name": "LayoutModel",
       "_view_count": null,
       "_view_module": "@jupyter-widgets/base",
       "_view_module_version": "1.2.0",
       "_view_name": "LayoutView",
       "align_content": null,
       "align_items": null,
       "align_self": null,
       "border": null,
       "bottom": null,
       "display": null,
       "flex": null,
       "flex_flow": null,
       "grid_area": null,
       "grid_auto_columns": null,
       "grid_auto_flow": null,
       "grid_auto_rows": null,
       "grid_column": null,
       "grid_gap": null,
       "grid_row": null,
       "grid_template_areas": null,
       "grid_template_columns": null,
       "grid_template_rows": null,
       "height": null,
       "justify_content": null,
       "justify_items": null,
       "left": null,
       "margin": null,
       "max_height": null,
       "max_width": null,
       "min_height": null,
       "min_width": null,
       "object_fit": null,
       "object_position": null,
       "order": null,
       "overflow": null,
       "overflow_x": null,
       "overflow_y": null,
       "padding": null,
       "right": null,
       "top": null,
       "visibility": null,
       "width": null
      }
     },
     "584670fa20e94d158a1451fbfcec6318": {
      "model_module": "@jupyter-widgets/controls",
      "model_module_version": "1.5.0",
      "model_name": "DescriptionStyleModel",
      "state": {
       "_model_module": "@jupyter-widgets/controls",
       "_model_module_version": "1.5.0",
       "_model_name": "DescriptionStyleModel",
       "_view_count": null,
       "_view_module": "@jupyter-widgets/base",
       "_view_module_version": "1.2.0",
       "_view_name": "StyleView",
       "description_width": ""
      }
     },
     "6c7942d3f96d46e9aa495ed92f43c640": {
      "model_module": "@jupyter-widgets/controls",
      "model_module_version": "1.5.0",
      "model_name": "HBoxModel",
      "state": {
       "_dom_classes": [],
       "_model_module": "@jupyter-widgets/controls",
       "_model_module_version": "1.5.0",
       "_model_name": "HBoxModel",
       "_view_count": null,
       "_view_module": "@jupyter-widgets/controls",
       "_view_module_version": "1.5.0",
       "_view_name": "HBoxView",
       "box_style": "",
       "children": [
        "IPY_MODEL_01ee4e15d9784384930a4d543202ee90",
        "IPY_MODEL_d6656ca7a9e1453fb3c569cff34f74ac",
        "IPY_MODEL_9ec561fc14174ece8ca660c6b80ddf76"
       ],
       "layout": "IPY_MODEL_b9b9ba85fe7c4079a379858d7d114deb"
      }
     },
     "6f7bee2010b74cb5a82288bf2dbe9491": {
      "model_module": "@jupyter-widgets/base",
      "model_module_version": "1.2.0",
      "model_name": "LayoutModel",
      "state": {
       "_model_module": "@jupyter-widgets/base",
       "_model_module_version": "1.2.0",
       "_model_name": "LayoutModel",
       "_view_count": null,
       "_view_module": "@jupyter-widgets/base",
       "_view_module_version": "1.2.0",
       "_view_name": "LayoutView",
       "align_content": null,
       "align_items": null,
       "align_self": null,
       "border": null,
       "bottom": null,
       "display": null,
       "flex": null,
       "flex_flow": null,
       "grid_area": null,
       "grid_auto_columns": null,
       "grid_auto_flow": null,
       "grid_auto_rows": null,
       "grid_column": null,
       "grid_gap": null,
       "grid_row": null,
       "grid_template_areas": null,
       "grid_template_columns": null,
       "grid_template_rows": null,
       "height": null,
       "justify_content": null,
       "justify_items": null,
       "left": null,
       "margin": null,
       "max_height": null,
       "max_width": null,
       "min_height": null,
       "min_width": null,
       "object_fit": null,
       "object_position": null,
       "order": null,
       "overflow": null,
       "overflow_x": null,
       "overflow_y": null,
       "padding": null,
       "right": null,
       "top": null,
       "visibility": null,
       "width": null
      }
     },
     "713f546fe5a848d8a6d212a6da17e291": {
      "model_module": "@jupyter-widgets/base",
      "model_module_version": "1.2.0",
      "model_name": "LayoutModel",
      "state": {
       "_model_module": "@jupyter-widgets/base",
       "_model_module_version": "1.2.0",
       "_model_name": "LayoutModel",
       "_view_count": null,
       "_view_module": "@jupyter-widgets/base",
       "_view_module_version": "1.2.0",
       "_view_name": "LayoutView",
       "align_content": null,
       "align_items": null,
       "align_self": null,
       "border": null,
       "bottom": null,
       "display": null,
       "flex": null,
       "flex_flow": null,
       "grid_area": null,
       "grid_auto_columns": null,
       "grid_auto_flow": null,
       "grid_auto_rows": null,
       "grid_column": null,
       "grid_gap": null,
       "grid_row": null,
       "grid_template_areas": null,
       "grid_template_columns": null,
       "grid_template_rows": null,
       "height": null,
       "justify_content": null,
       "justify_items": null,
       "left": null,
       "margin": null,
       "max_height": null,
       "max_width": null,
       "min_height": null,
       "min_width": null,
       "object_fit": null,
       "object_position": null,
       "order": null,
       "overflow": null,
       "overflow_x": null,
       "overflow_y": null,
       "padding": null,
       "right": null,
       "top": null,
       "visibility": null,
       "width": null
      }
     },
     "74a6ce09c46c424fb8b987b294d9267b": {
      "model_module": "@jupyter-widgets/base",
      "model_module_version": "1.2.0",
      "model_name": "LayoutModel",
      "state": {
       "_model_module": "@jupyter-widgets/base",
       "_model_module_version": "1.2.0",
       "_model_name": "LayoutModel",
       "_view_count": null,
       "_view_module": "@jupyter-widgets/base",
       "_view_module_version": "1.2.0",
       "_view_name": "LayoutView",
       "align_content": null,
       "align_items": null,
       "align_self": null,
       "border": null,
       "bottom": null,
       "display": null,
       "flex": null,
       "flex_flow": null,
       "grid_area": null,
       "grid_auto_columns": null,
       "grid_auto_flow": null,
       "grid_auto_rows": null,
       "grid_column": null,
       "grid_gap": null,
       "grid_row": null,
       "grid_template_areas": null,
       "grid_template_columns": null,
       "grid_template_rows": null,
       "height": null,
       "justify_content": null,
       "justify_items": null,
       "left": null,
       "margin": null,
       "max_height": null,
       "max_width": null,
       "min_height": null,
       "min_width": null,
       "object_fit": null,
       "object_position": null,
       "order": null,
       "overflow": null,
       "overflow_x": null,
       "overflow_y": null,
       "padding": null,
       "right": null,
       "top": null,
       "visibility": null,
       "width": null
      }
     },
     "778cf67d128e46f695fbb06d3d89df86": {
      "model_module": "@jupyter-widgets/base",
      "model_module_version": "1.2.0",
      "model_name": "LayoutModel",
      "state": {
       "_model_module": "@jupyter-widgets/base",
       "_model_module_version": "1.2.0",
       "_model_name": "LayoutModel",
       "_view_count": null,
       "_view_module": "@jupyter-widgets/base",
       "_view_module_version": "1.2.0",
       "_view_name": "LayoutView",
       "align_content": null,
       "align_items": null,
       "align_self": null,
       "border": null,
       "bottom": null,
       "display": null,
       "flex": null,
       "flex_flow": null,
       "grid_area": null,
       "grid_auto_columns": null,
       "grid_auto_flow": null,
       "grid_auto_rows": null,
       "grid_column": null,
       "grid_gap": null,
       "grid_row": null,
       "grid_template_areas": null,
       "grid_template_columns": null,
       "grid_template_rows": null,
       "height": null,
       "justify_content": null,
       "justify_items": null,
       "left": null,
       "margin": null,
       "max_height": null,
       "max_width": null,
       "min_height": null,
       "min_width": null,
       "object_fit": null,
       "object_position": null,
       "order": null,
       "overflow": null,
       "overflow_x": null,
       "overflow_y": null,
       "padding": null,
       "right": null,
       "top": null,
       "visibility": null,
       "width": null
      }
     },
     "7847d87f642043f3b740487b4b138e45": {
      "model_module": "@jupyter-widgets/controls",
      "model_module_version": "1.5.0",
      "model_name": "FloatProgressModel",
      "state": {
       "_dom_classes": [],
       "_model_module": "@jupyter-widgets/controls",
       "_model_module_version": "1.5.0",
       "_model_name": "FloatProgressModel",
       "_view_count": null,
       "_view_module": "@jupyter-widgets/controls",
       "_view_module_version": "1.5.0",
       "_view_name": "ProgressView",
       "bar_style": "success",
       "description": "",
       "description_tooltip": null,
       "layout": "IPY_MODEL_44f996d1ce6d4f879e3e02d8ee1827e5",
       "max": 4203.0,
       "min": 0.0,
       "orientation": "horizontal",
       "style": "IPY_MODEL_3161eabe174c4f72ac0d55c2e2efc226",
       "value": 4203.0
      }
     },
     "79bd796bb6c54bb5a75d4bb73fc3c1bd": {
      "model_module": "@jupyter-widgets/base",
      "model_module_version": "1.2.0",
      "model_name": "LayoutModel",
      "state": {
       "_model_module": "@jupyter-widgets/base",
       "_model_module_version": "1.2.0",
       "_model_name": "LayoutModel",
       "_view_count": null,
       "_view_module": "@jupyter-widgets/base",
       "_view_module_version": "1.2.0",
       "_view_name": "LayoutView",
       "align_content": null,
       "align_items": null,
       "align_self": null,
       "border": null,
       "bottom": null,
       "display": null,
       "flex": null,
       "flex_flow": null,
       "grid_area": null,
       "grid_auto_columns": null,
       "grid_auto_flow": null,
       "grid_auto_rows": null,
       "grid_column": null,
       "grid_gap": null,
       "grid_row": null,
       "grid_template_areas": null,
       "grid_template_columns": null,
       "grid_template_rows": null,
       "height": null,
       "justify_content": null,
       "justify_items": null,
       "left": null,
       "margin": null,
       "max_height": null,
       "max_width": null,
       "min_height": null,
       "min_width": null,
       "object_fit": null,
       "object_position": null,
       "order": null,
       "overflow": null,
       "overflow_x": null,
       "overflow_y": null,
       "padding": null,
       "right": null,
       "top": null,
       "visibility": null,
       "width": null
      }
     },
     "80dafe1f80cd46e68ac34f03159abf33": {
      "model_module": "@jupyter-widgets/controls",
      "model_module_version": "1.5.0",
      "model_name": "FloatProgressModel",
      "state": {
       "_dom_classes": [],
       "_model_module": "@jupyter-widgets/controls",
       "_model_module_version": "1.5.0",
       "_model_name": "FloatProgressModel",
       "_view_count": null,
       "_view_module": "@jupyter-widgets/controls",
       "_view_module_version": "1.5.0",
       "_view_name": "ProgressView",
       "bar_style": "success",
       "description": "",
       "description_tooltip": null,
       "layout": "IPY_MODEL_713f546fe5a848d8a6d212a6da17e291",
       "max": 69665.0,
       "min": 0.0,
       "orientation": "horizontal",
       "style": "IPY_MODEL_d91d6f8fcfac43dabf9e706e232ccef3",
       "value": 69665.0
      }
     },
     "888fccbcb62f424d8af129bb96ada0b8": {
      "model_module": "@jupyter-widgets/controls",
      "model_module_version": "1.5.0",
      "model_name": "DescriptionStyleModel",
      "state": {
       "_model_module": "@jupyter-widgets/controls",
       "_model_module_version": "1.5.0",
       "_model_name": "DescriptionStyleModel",
       "_view_count": null,
       "_view_module": "@jupyter-widgets/base",
       "_view_module_version": "1.2.0",
       "_view_name": "StyleView",
       "description_width": ""
      }
     },
     "89dc076307eb4f939a5a1236c1e5b830": {
      "model_module": "@jupyter-widgets/controls",
      "model_module_version": "1.5.0",
      "model_name": "ProgressStyleModel",
      "state": {
       "_model_module": "@jupyter-widgets/controls",
       "_model_module_version": "1.5.0",
       "_model_name": "ProgressStyleModel",
       "_view_count": null,
       "_view_module": "@jupyter-widgets/base",
       "_view_module_version": "1.2.0",
       "_view_name": "StyleView",
       "bar_color": null,
       "description_width": ""
      }
     },
     "92d58959721a430ea3f37342bc1a949f": {
      "model_module": "@jupyter-widgets/controls",
      "model_module_version": "1.5.0",
      "model_name": "DescriptionStyleModel",
      "state": {
       "_model_module": "@jupyter-widgets/controls",
       "_model_module_version": "1.5.0",
       "_model_name": "DescriptionStyleModel",
       "_view_count": null,
       "_view_module": "@jupyter-widgets/base",
       "_view_module_version": "1.2.0",
       "_view_name": "StyleView",
       "description_width": ""
      }
     },
     "9ec561fc14174ece8ca660c6b80ddf76": {
      "model_module": "@jupyter-widgets/controls",
      "model_module_version": "1.5.0",
      "model_name": "HTMLModel",
      "state": {
       "_dom_classes": [],
       "_model_module": "@jupyter-widgets/controls",
       "_model_module_version": "1.5.0",
       "_model_name": "HTMLModel",
       "_view_count": null,
       "_view_module": "@jupyter-widgets/controls",
       "_view_module_version": "1.5.0",
       "_view_name": "HTMLView",
       "description": "",
       "description_tooltip": null,
       "layout": "IPY_MODEL_a568a65e83c54a3ebd90edd8e2fe0a5d",
       "placeholder": "​",
       "style": "IPY_MODEL_392920daa82a4188a04cb3f1b59c0d7c",
       "value": " 160/160 [00:00&lt;00:00, 13.5kB/s]"
      }
     },
     "a568a65e83c54a3ebd90edd8e2fe0a5d": {
      "model_module": "@jupyter-widgets/base",
      "model_module_version": "1.2.0",
      "model_name": "LayoutModel",
      "state": {
       "_model_module": "@jupyter-widgets/base",
       "_model_module_version": "1.2.0",
       "_model_name": "LayoutModel",
       "_view_count": null,
       "_view_module": "@jupyter-widgets/base",
       "_view_module_version": "1.2.0",
       "_view_name": "LayoutView",
       "align_content": null,
       "align_items": null,
       "align_self": null,
       "border": null,
       "bottom": null,
       "display": null,
       "flex": null,
       "flex_flow": null,
       "grid_area": null,
       "grid_auto_columns": null,
       "grid_auto_flow": null,
       "grid_auto_rows": null,
       "grid_column": null,
       "grid_gap": null,
       "grid_row": null,
       "grid_template_areas": null,
       "grid_template_columns": null,
       "grid_template_rows": null,
       "height": null,
       "justify_content": null,
       "justify_items": null,
       "left": null,
       "margin": null,
       "max_height": null,
       "max_width": null,
       "min_height": null,
       "min_width": null,
       "object_fit": null,
       "object_position": null,
       "order": null,
       "overflow": null,
       "overflow_x": null,
       "overflow_y": null,
       "padding": null,
       "right": null,
       "top": null,
       "visibility": null,
       "width": null
      }
     },
     "b9b9ba85fe7c4079a379858d7d114deb": {
      "model_module": "@jupyter-widgets/base",
      "model_module_version": "1.2.0",
      "model_name": "LayoutModel",
      "state": {
       "_model_module": "@jupyter-widgets/base",
       "_model_module_version": "1.2.0",
       "_model_name": "LayoutModel",
       "_view_count": null,
       "_view_module": "@jupyter-widgets/base",
       "_view_module_version": "1.2.0",
       "_view_name": "LayoutView",
       "align_content": null,
       "align_items": null,
       "align_self": null,
       "border": null,
       "bottom": null,
       "display": null,
       "flex": null,
       "flex_flow": null,
       "grid_area": null,
       "grid_auto_columns": null,
       "grid_auto_flow": null,
       "grid_auto_rows": null,
       "grid_column": null,
       "grid_gap": null,
       "grid_row": null,
       "grid_template_areas": null,
       "grid_template_columns": null,
       "grid_template_rows": null,
       "height": null,
       "justify_content": null,
       "justify_items": null,
       "left": null,
       "margin": null,
       "max_height": null,
       "max_width": null,
       "min_height": null,
       "min_width": null,
       "object_fit": null,
       "object_position": null,
       "order": null,
       "overflow": null,
       "overflow_x": null,
       "overflow_y": null,
       "padding": null,
       "right": null,
       "top": null,
       "visibility": null,
       "width": null
      }
     },
     "ba1ceedf831f453680a39a2a761290a9": {
      "model_module": "@jupyter-widgets/base",
      "model_module_version": "1.2.0",
      "model_name": "LayoutModel",
      "state": {
       "_model_module": "@jupyter-widgets/base",
       "_model_module_version": "1.2.0",
       "_model_name": "LayoutModel",
       "_view_count": null,
       "_view_module": "@jupyter-widgets/base",
       "_view_module_version": "1.2.0",
       "_view_name": "LayoutView",
       "align_content": null,
       "align_items": null,
       "align_self": null,
       "border": null,
       "bottom": null,
       "display": null,
       "flex": null,
       "flex_flow": null,
       "grid_area": null,
       "grid_auto_columns": null,
       "grid_auto_flow": null,
       "grid_auto_rows": null,
       "grid_column": null,
       "grid_gap": null,
       "grid_row": null,
       "grid_template_areas": null,
       "grid_template_columns": null,
       "grid_template_rows": null,
       "height": null,
       "justify_content": null,
       "justify_items": null,
       "left": null,
       "margin": null,
       "max_height": null,
       "max_width": null,
       "min_height": null,
       "min_width": null,
       "object_fit": null,
       "object_position": null,
       "order": null,
       "overflow": null,
       "overflow_x": null,
       "overflow_y": null,
       "padding": null,
       "right": null,
       "top": null,
       "visibility": null,
       "width": null
      }
     },
     "ca94e6692f4a48fd8ee6f26da2920d0f": {
      "model_module": "@jupyter-widgets/controls",
      "model_module_version": "1.5.0",
      "model_name": "HTMLModel",
      "state": {
       "_dom_classes": [],
       "_model_module": "@jupyter-widgets/controls",
       "_model_module_version": "1.5.0",
       "_model_name": "HTMLModel",
       "_view_count": null,
       "_view_module": "@jupyter-widgets/controls",
       "_view_module_version": "1.5.0",
       "_view_name": "HTMLView",
       "description": "",
       "description_tooltip": null,
       "layout": "IPY_MODEL_05fa9989535743ee820582016fc5bf57",
       "placeholder": "​",
       "style": "IPY_MODEL_d6091cf49c134374aaa24ee3ad006023",
       "value": "config.json: 100%"
      }
     },
     "d6091cf49c134374aaa24ee3ad006023": {
      "model_module": "@jupyter-widgets/controls",
      "model_module_version": "1.5.0",
      "model_name": "DescriptionStyleModel",
      "state": {
       "_model_module": "@jupyter-widgets/controls",
       "_model_module_version": "1.5.0",
       "_model_name": "DescriptionStyleModel",
       "_view_count": null,
       "_view_module": "@jupyter-widgets/base",
       "_view_module_version": "1.2.0",
       "_view_name": "StyleView",
       "description_width": ""
      }
     },
     "d6656ca7a9e1453fb3c569cff34f74ac": {
      "model_module": "@jupyter-widgets/controls",
      "model_module_version": "1.5.0",
      "model_name": "FloatProgressModel",
      "state": {
       "_dom_classes": [],
       "_model_module": "@jupyter-widgets/controls",
       "_model_module_version": "1.5.0",
       "_model_name": "FloatProgressModel",
       "_view_count": null,
       "_view_module": "@jupyter-widgets/controls",
       "_view_module_version": "1.5.0",
       "_view_name": "ProgressView",
       "bar_style": "success",
       "description": "",
       "description_tooltip": null,
       "layout": "IPY_MODEL_6f7bee2010b74cb5a82288bf2dbe9491",
       "max": 160.0,
       "min": 0.0,
       "orientation": "horizontal",
       "style": "IPY_MODEL_4f9ced40c8024f6b8f48c85b3c20346d",
       "value": 160.0
      }
     },
     "d91d6f8fcfac43dabf9e706e232ccef3": {
      "model_module": "@jupyter-widgets/controls",
      "model_module_version": "1.5.0",
      "model_name": "ProgressStyleModel",
      "state": {
       "_model_module": "@jupyter-widgets/controls",
       "_model_module_version": "1.5.0",
       "_model_name": "ProgressStyleModel",
       "_view_count": null,
       "_view_module": "@jupyter-widgets/base",
       "_view_module_version": "1.2.0",
       "_view_name": "StyleView",
       "bar_color": null,
       "description_width": ""
      }
     },
     "d9848222e58a462195428e0270d70e75": {
      "model_module": "@jupyter-widgets/controls",
      "model_module_version": "1.5.0",
      "model_name": "HTMLModel",
      "state": {
       "_dom_classes": [],
       "_model_module": "@jupyter-widgets/controls",
       "_model_module_version": "1.5.0",
       "_model_name": "HTMLModel",
       "_view_count": null,
       "_view_module": "@jupyter-widgets/controls",
       "_view_module_version": "1.5.0",
       "_view_name": "HTMLView",
       "description": "",
       "description_tooltip": null,
       "layout": "IPY_MODEL_79bd796bb6c54bb5a75d4bb73fc3c1bd",
       "placeholder": "​",
       "style": "IPY_MODEL_584670fa20e94d158a1451fbfcec6318",
       "value": " 4.20k/4.20k [00:00&lt;00:00, 337kB/s]"
      }
     },
     "e19a6fabfca14302b09a9507d03bf02e": {
      "model_module": "@jupyter-widgets/base",
      "model_module_version": "1.2.0",
      "model_name": "LayoutModel",
      "state": {
       "_model_module": "@jupyter-widgets/base",
       "_model_module_version": "1.2.0",
       "_model_name": "LayoutModel",
       "_view_count": null,
       "_view_module": "@jupyter-widgets/base",
       "_view_module_version": "1.2.0",
       "_view_name": "LayoutView",
       "align_content": null,
       "align_items": null,
       "align_self": null,
       "border": null,
       "bottom": null,
       "display": null,
       "flex": null,
       "flex_flow": null,
       "grid_area": null,
       "grid_auto_columns": null,
       "grid_auto_flow": null,
       "grid_auto_rows": null,
       "grid_column": null,
       "grid_gap": null,
       "grid_row": null,
       "grid_template_areas": null,
       "grid_template_columns": null,
       "grid_template_rows": null,
       "height": null,
       "justify_content": null,
       "justify_items": null,
       "left": null,
       "margin": null,
       "max_height": null,
       "max_width": null,
       "min_height": null,
       "min_width": null,
       "object_fit": null,
       "object_position": null,
       "order": null,
       "overflow": null,
       "overflow_x": null,
       "overflow_y": null,
       "padding": null,
       "right": null,
       "top": null,
       "visibility": null,
       "width": null
      }
     },
     "e383c36528b346638aff01fec8c328ae": {
      "model_module": "@jupyter-widgets/controls",
      "model_module_version": "1.5.0",
      "model_name": "HTMLModel",
      "state": {
       "_dom_classes": [],
       "_model_module": "@jupyter-widgets/controls",
       "_model_module_version": "1.5.0",
       "_model_name": "HTMLModel",
       "_view_count": null,
       "_view_module": "@jupyter-widgets/controls",
       "_view_module_version": "1.5.0",
       "_view_name": "HTMLView",
       "description": "",
       "description_tooltip": null,
       "layout": "IPY_MODEL_1ef44fe533d74e528059a7e1d3093eb2",
       "placeholder": "​",
       "style": "IPY_MODEL_92d58959721a430ea3f37342bc1a949f",
       "value": "model.safetensors: 100%"
      }
     },
     "e4cd5f6b6f814cfab13f3f47a53d9f3e": {
      "model_module": "@jupyter-widgets/base",
      "model_module_version": "1.2.0",
      "model_name": "LayoutModel",
      "state": {
       "_model_module": "@jupyter-widgets/base",
       "_model_module_version": "1.2.0",
       "_model_name": "LayoutModel",
       "_view_count": null,
       "_view_module": "@jupyter-widgets/base",
       "_view_module_version": "1.2.0",
       "_view_name": "LayoutView",
       "align_content": null,
       "align_items": null,
       "align_self": null,
       "border": null,
       "bottom": null,
       "display": null,
       "flex": null,
       "flex_flow": null,
       "grid_area": null,
       "grid_auto_columns": null,
       "grid_auto_flow": null,
       "grid_auto_rows": null,
       "grid_column": null,
       "grid_gap": null,
       "grid_row": null,
       "grid_template_areas": null,
       "grid_template_columns": null,
       "grid_template_rows": null,
       "height": null,
       "justify_content": null,
       "justify_items": null,
       "left": null,
       "margin": null,
       "max_height": null,
       "max_width": null,
       "min_height": null,
       "min_width": null,
       "object_fit": null,
       "object_position": null,
       "order": null,
       "overflow": null,
       "overflow_x": null,
       "overflow_y": null,
       "padding": null,
       "right": null,
       "top": null,
       "visibility": null,
       "width": null
      }
     },
     "e88a9d6306d444ff9a0da53fb02e8cec": {
      "model_module": "@jupyter-widgets/controls",
      "model_module_version": "1.5.0",
      "model_name": "FloatProgressModel",
      "state": {
       "_dom_classes": [],
       "_model_module": "@jupyter-widgets/controls",
       "_model_module_version": "1.5.0",
       "_model_name": "FloatProgressModel",
       "_view_count": null,
       "_view_module": "@jupyter-widgets/controls",
       "_view_module_version": "1.5.0",
       "_view_name": "ProgressView",
       "bar_style": "success",
       "description": "",
       "description_tooltip": null,
       "layout": "IPY_MODEL_e19a6fabfca14302b09a9507d03bf02e",
       "max": 346293852.0,
       "min": 0.0,
       "orientation": "horizontal",
       "style": "IPY_MODEL_89dc076307eb4f939a5a1236c1e5b830",
       "value": 346293852.0
      }
     },
     "e8f9b9a08a154df6b7c9a36899964910": {
      "model_module": "@jupyter-widgets/controls",
      "model_module_version": "1.5.0",
      "model_name": "HTMLModel",
      "state": {
       "_dom_classes": [],
       "_model_module": "@jupyter-widgets/controls",
       "_model_module_version": "1.5.0",
       "_model_name": "HTMLModel",
       "_view_count": null,
       "_view_module": "@jupyter-widgets/controls",
       "_view_module_version": "1.5.0",
       "_view_name": "HTMLView",
       "description": "",
       "description_tooltip": null,
       "layout": "IPY_MODEL_5535a7fd20d34539b81302d3cced06ac",
       "placeholder": "​",
       "style": "IPY_MODEL_3bcec00a1dd64974b344273dcd730a29",
       "value": "Downloading builder script: 100%"
      }
     },
     "e9e3951a4d7a4643915504fb1d8902cb": {
      "model_module": "@jupyter-widgets/controls",
      "model_module_version": "1.5.0",
      "model_name": "HTMLModel",
      "state": {
       "_dom_classes": [],
       "_model_module": "@jupyter-widgets/controls",
       "_model_module_version": "1.5.0",
       "_model_name": "HTMLModel",
       "_view_count": null,
       "_view_module": "@jupyter-widgets/controls",
       "_view_module_version": "1.5.0",
       "_view_name": "HTMLView",
       "description": "",
       "description_tooltip": null,
       "layout": "IPY_MODEL_ba1ceedf831f453680a39a2a761290a9",
       "placeholder": "​",
       "style": "IPY_MODEL_24910c84c46245d7bf4502ca6445592a",
       "value": " 69.7k/69.7k [00:00&lt;00:00, 2.15MB/s]"
      }
     },
     "eb250badf06d4e66ba9005590f51d01c": {
      "model_module": "@jupyter-widgets/controls",
      "model_module_version": "1.5.0",
      "model_name": "HBoxModel",
      "state": {
       "_dom_classes": [],
       "_model_module": "@jupyter-widgets/controls",
       "_model_module_version": "1.5.0",
       "_model_name": "HBoxModel",
       "_view_count": null,
       "_view_module": "@jupyter-widgets/controls",
       "_view_module_version": "1.5.0",
       "_view_name": "HBoxView",
       "box_style": "",
       "children": [
        "IPY_MODEL_e8f9b9a08a154df6b7c9a36899964910",
        "IPY_MODEL_7847d87f642043f3b740487b4b138e45",
        "IPY_MODEL_d9848222e58a462195428e0270d70e75"
       ],
       "layout": "IPY_MODEL_74a6ce09c46c424fb8b987b294d9267b"
      }
     },
     "fcdf8ab7fd7443e5a04500fd9372e7e9": {
      "model_module": "@jupyter-widgets/base",
      "model_module_version": "1.2.0",
      "model_name": "LayoutModel",
      "state": {
       "_model_module": "@jupyter-widgets/base",
       "_model_module_version": "1.2.0",
       "_model_name": "LayoutModel",
       "_view_count": null,
       "_view_module": "@jupyter-widgets/base",
       "_view_module_version": "1.2.0",
       "_view_name": "LayoutView",
       "align_content": null,
       "align_items": null,
       "align_self": null,
       "border": null,
       "bottom": null,
       "display": null,
       "flex": null,
       "flex_flow": null,
       "grid_area": null,
       "grid_auto_columns": null,
       "grid_auto_flow": null,
       "grid_auto_rows": null,
       "grid_column": null,
       "grid_gap": null,
       "grid_row": null,
       "grid_template_areas": null,
       "grid_template_columns": null,
       "grid_template_rows": null,
       "height": null,
       "justify_content": null,
       "justify_items": null,
       "left": null,
       "margin": null,
       "max_height": null,
       "max_width": null,
       "min_height": null,
       "min_width": null,
       "object_fit": null,
       "object_position": null,
       "order": null,
       "overflow": null,
       "overflow_x": null,
       "overflow_y": null,
       "padding": null,
       "right": null,
       "top": null,
       "visibility": null,
       "width": null
      }
     }
    },
    "version_major": 2,
    "version_minor": 0
   }
  }
 },
 "nbformat": 4,
 "nbformat_minor": 5
}
